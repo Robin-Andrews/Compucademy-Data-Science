{
 "cells": [
  {
   "cell_type": "code",
   "execution_count": null,
   "metadata": {},
   "outputs": [],
   "source": [
    "%load_ext nb_black"
   ]
  },
  {
   "cell_type": "code",
   "execution_count": null,
   "metadata": {},
   "outputs": [],
   "source": [
    "\"\"\"\n",
    "1. How to import pandas and check the version?\n",
    "\"\"\"\n",
    "\n",
    "import pandas as pd\n",
    "\n",
    "pd.__version__\n"
   ]
  },
  {
   "cell_type": "code",
   "execution_count": null,
   "metadata": {},
   "outputs": [],
   "source": [
    "\"\"\"\n",
    "2. How to create a series from a list, numpy array and dict?\n",
    "Create a pandas series from each of the items below: a list, numpy and a dictionary\n",
    "\"\"\"\n",
    "\n",
    "import numpy as np\n",
    "\n",
    "mylist = list(\"abcedfghijklmnopqrstuvwxyz\")\n",
    "myarr = np.arange(26)\n",
    "mydict = dict(zip(mylist, myarr))\n",
    "\n",
    "my_series1 = pd.Series(mylist)\n",
    "my_series2 = pd.Series(myarr)\n",
    "my_series3 = pd.Series(mydict)\n",
    "\n",
    "my_series3.head()"
   ]
  },
  {
   "cell_type": "code",
   "execution_count": null,
   "metadata": {},
   "outputs": [],
   "source": [
    "\"\"\"\n",
    "3. How to convert the index of a series into a column of a dataframe?\n",
    "Difficulty Level: L1\n",
    "\n",
    "Convert the series ser into a dataframe with its index as another column on the dataframe\n",
    "\"\"\"\n",
    "\n",
    "mylist = list(\"abcedfghijklmnopqrstuvwxyz\")\n",
    "myarr = np.arange(26)\n",
    "mydict = dict(zip(mylist, myarr))\n",
    "ser = pd.Series(mydict)\n",
    "\n",
    "df = pd.DataFrame(ser).reset_index()\n",
    "df"
   ]
  },
  {
   "cell_type": "code",
   "execution_count": null,
   "metadata": {},
   "outputs": [],
   "source": [
    "\"\"\"\n",
    "4. How to combine many series to form a dataframe?\n",
    "Difficulty Level: L1\n",
    "\n",
    "Combine ser1 and ser2 to form a dataframe.\n",
    "\"\"\"\n",
    "\n",
    "\"\"\"\n",
    "axis=1 means along \"columns\". It's a column-wise operation.\n",
    "Suppose, to perform concat() operation on dataframe1 & dataframe2, we will take out the 1st complete\n",
    "column(a.k.a 1st series) of dataframe1 and place into new DF, then we take out the second column of\n",
    "dataframe1 and keep adjacent to it (sideways), we have to repeat this operation until all columns\n",
    "are finished. Then, we repeat the same process on dataframe2. Basically, stacking dataframe2 sideways.\n",
    "\"\"\"\n",
    "\n",
    "import numpy as np\n",
    "\n",
    "ser1 = pd.Series(list(\"abcedfghijklmnopqrstuvwxyz\"))\n",
    "ser2 = pd.Series(np.arange(26))\n",
    "\n",
    "df = pd.concat([ser1, ser2], axis=1)\n",
    "df.head()"
   ]
  },
  {
   "cell_type": "code",
   "execution_count": null,
   "metadata": {},
   "outputs": [],
   "source": [
    "\"\"\"\n",
    "5. How to assign name to the series’ index?\n",
    "Difficulty Level: L1\n",
    "\n",
    "Give a name to the series ser calling it ‘alphabets’.\n",
    "\"\"\"\n",
    "\n",
    "ser = pd.Series(list('abcedfghijklmnopqrstuvwxyz'))"
   ]
  }
 ],
 "metadata": {
  "kernelspec": {
   "display_name": "Python 3",
   "language": "python",
   "name": "python3"
  },
  "language_info": {
   "codemirror_mode": {
    "name": "ipython",
    "version": 3
   },
   "file_extension": ".py",
   "mimetype": "text/x-python",
   "name": "python",
   "nbconvert_exporter": "python",
   "pygments_lexer": "ipython3",
   "version": "3.7.4"
  }
 },
 "nbformat": 4,
 "nbformat_minor": 2
}
