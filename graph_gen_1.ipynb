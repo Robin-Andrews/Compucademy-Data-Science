{
 "cells": [
  {
   "cell_type": "code",
   "execution_count": 1,
   "metadata": {},
   "outputs": [
    {
     "data": {
      "application/javascript": [
       "\n",
       "            setTimeout(function() {\n",
       "                var nbb_cell_id = 1;\n",
       "                var nbb_formatted_code = \"%load_ext nb_black\";\n",
       "                var nbb_cells = Jupyter.notebook.get_cells();\n",
       "                for (var i = 0; i < nbb_cells.length; ++i) {\n",
       "                    if (nbb_cells[i].input_prompt_number == nbb_cell_id) {\n",
       "                        nbb_cells[i].set_text(nbb_formatted_code);\n",
       "                        break;\n",
       "                    }\n",
       "                }\n",
       "            }, 500);\n",
       "            "
      ],
      "text/plain": [
       "<IPython.core.display.Javascript object>"
      ]
     },
     "metadata": {},
     "output_type": "display_data"
    }
   ],
   "source": [
    "%load_ext nb_black"
   ]
  },
  {
   "cell_type": "markdown",
   "metadata": {},
   "source": [
    "![pseudocode](HW1-ER.jpg)"
   ]
  },
  {
   "cell_type": "code",
   "execution_count": 32,
   "metadata": {},
   "outputs": [
    {
     "data": {
      "image/png": "[encoded data removed]",
      "text/plain": [
       "<Figure size 432x288 with 1 Axes>"
      ]
     },
     "metadata": {},
     "output_type": "display_data"
    },
    {
     "data": {
      "application/javascript": [
       "\n",
       "            setTimeout(function() {\n",
       "                var nbb_cell_id = 32;\n",
       "                var nbb_formatted_code = \"%matplotlib inline\\nimport matplotlib.pyplot as plt\\nimport networkx as nx\\nfrom itertools import combinations\\nfrom random import random\\n\\n\\ndef ER(n, p):\\n    V = set([v for v in range(n)])\\n    E = set()\\n    for combination in combinations(V, 2):\\n        a = random()\\n        if a < p:\\n            E.add(combination)\\n\\n    g = nx.Graph()\\n    g.add_nodes_from(V)\\n    g.add_edges_from(E)\\n\\n    return g\\n\\n\\nn = 5\\np = 0.5\\nG = ER(n, p)\\npos = nx.spring_layout(G)\\nnx.draw_networkx(G, pos, with_labels=True)\\nplt.title(\\\"Random Graph Generation Example\\\")\\nplt.show()\";\n",
       "                var nbb_cells = Jupyter.notebook.get_cells();\n",
       "                for (var i = 0; i < nbb_cells.length; ++i) {\n",
       "                    if (nbb_cells[i].input_prompt_number == nbb_cell_id) {\n",
       "                        nbb_cells[i].set_text(nbb_formatted_code);\n",
       "                        break;\n",
       "                    }\n",
       "                }\n",
       "            }, 500);\n",
       "            "
      ],
      "text/plain": [
       "<IPython.core.display.Javascript object>"
      ]
     },
     "metadata": {},
     "output_type": "display_data"
    }
   ],
   "source": [
    "%matplotlib inline\n",
    "import matplotlib.pyplot as plt\n",
    "import networkx as nx\n",
    "from itertools import combinations\n",
    "from random import random\n",
    "\n",
    "\n",
    "def ER(n, p):\n",
    "    V = set([v for v in range(n)])\n",
    "    E = set()\n",
    "    for combination in combinations(V, 2):\n",
    "        a = random()\n",
    "        if a < p:\n",
    "            E.add(combination)\n",
    "\n",
    "    g = nx.Graph()\n",
    "    g.add_nodes_from(V)\n",
    "    g.add_edges_from(E)\n",
    "\n",
    "    return g\n",
    "\n",
    "\n",
    "n = 5\n",
    "p = 0.5\n",
    "G = ER(n, p)\n",
    "pos = nx.spring_layout(G)\n",
    "nx.draw_networkx(G, pos, with_labels=True)\n",
    "plt.title(\"Random Graph Generation Example\")\n",
    "plt.show()"
   ]
  }
 ],
 "metadata": {
  "kernelspec": {
   "display_name": "Python 3",
   "language": "python",
   "name": "python3"
  },
  "language_info": {
   "codemirror_mode": {
    "name": "ipython",
    "version": 3
   },
   "file_extension": ".py",
   "mimetype": "text/x-python",
   "name": "python",
   "nbconvert_exporter": "python",
   "pygments_lexer": "ipython3",
   "version": "3.7.4"
  }
 },
 "nbformat": 4,
 "nbformat_minor": 2
}
