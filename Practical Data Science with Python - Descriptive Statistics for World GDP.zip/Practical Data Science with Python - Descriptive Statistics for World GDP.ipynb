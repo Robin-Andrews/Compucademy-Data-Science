{
 "cells": [
  {
   "cell_type": "markdown",
   "id": "geological-malpractice",
   "metadata": {},
   "source": [
    "# Practical Data Science with Python - Descriptive Statistics for World GDP per Capita\n",
    "\n",
    "The only way to gain proficiency in working with data is through experience. Theory can be important, but unless you have a decent amount of hands-on experience to draw upon, it will remain abstract, and you will be unequipped to to handle the kinds of issues that present themselves when you work with real data in a practical way. The aim of these lessons is to provide self-contained scenarios where you can develop your Data Science Skills using real data and Python programming. \n",
    "\n",
    "## The task:\n",
    "\n",
    "> Display a boxplot for a dataset containing World GDP per Capita figures for 2017\n",
    "\n",
    "Data source: <https://www.worldometers.info/gdp/gdp-per-capita/>\n",
    "\n",
    "### GDP per Capita\n",
    "\n",
    "*Gross Domestic Product (GDP) per capita shows a country's GDP divided by its total population. The dataset used in this lesson lists countries in the world ranked by nominal GDP per capita. It also includes data for Purchasing Power Parity (PPP) per capita, but we will not use it here.*\n",
    "\n",
    "Data file available here: TBC\n",
    "\n",
    "The code in this lesson was written in a Juypter Notebook. This means it can be run sequentially using IPython. If you wish to use non-interactive Python you can create a `.py` file and run it as you normally would, omitting any special directives such as `%load_ext nb_black`. You may also need to add `print` statements in some situations to obtain output."
   ]
  },
  {
   "cell_type": "code",
   "execution_count": 2,
   "id": "julian-feelings",
   "metadata": {},
   "outputs": [
    {
     "data": {
      "application/javascript": [
       "\n",
       "            setTimeout(function() {\n",
       "                var nbb_cell_id = 2;\n",
       "                var nbb_unformatted_code = \"# Optional auto-formatting. Installation required (`pip install nb_black`)\\n%load_ext nb_black\\n\\n# Import required modules\\nimport pandas as pd\\nimport numpy as np\\nimport matplotlib.pyplot as plt\";\n",
       "                var nbb_formatted_code = \"# Optional auto-formatting. Installation required (`pip install nb_black`)\\n%load_ext nb_black\\n\\n# Import required modules\\nimport pandas as pd\\nimport numpy as np\\nimport matplotlib.pyplot as plt\";\n",
       "                var nbb_cells = Jupyter.notebook.get_cells();\n",
       "                for (var i = 0; i < nbb_cells.length; ++i) {\n",
       "                    if (nbb_cells[i].input_prompt_number == nbb_cell_id) {\n",
       "                        if (nbb_cells[i].get_text() == nbb_unformatted_code) {\n",
       "                             nbb_cells[i].set_text(nbb_formatted_code);\n",
       "                        }\n",
       "                        break;\n",
       "                    }\n",
       "                }\n",
       "            }, 500);\n",
       "            "
      ],
      "text/plain": [
       "<IPython.core.display.Javascript object>"
      ]
     },
     "metadata": {},
     "output_type": "display_data"
    }
   ],
   "source": [
    "# Optional auto-formatting. Installation required (`pip install nb_black`)\n",
    "%load_ext nb_black\n",
    "\n",
    "# Import required modules\n",
    "import pandas as pd\n",
    "import numpy as np\n",
    "import matplotlib.pyplot as plt"
   ]
  },
  {
   "cell_type": "code",
   "execution_count": 3,
   "id": "moral-draft",
   "metadata": {},
   "outputs": [
    {
     "data": {
      "text/html": [
       "<div>\n",
       "<style scoped>\n",
       "    .dataframe tbody tr th:only-of-type {\n",
       "        vertical-align: middle;\n",
       "    }\n",
       "\n",
       "    .dataframe tbody tr th {\n",
       "        vertical-align: top;\n",
       "    }\n",
       "\n",
       "    .dataframe thead th {\n",
       "        text-align: right;\n",
       "    }\n",
       "</style>\n",
       "<table border=\"1\" class=\"dataframe\">\n",
       "  <thead>\n",
       "    <tr style=\"text-align: right;\">\n",
       "      <th></th>\n",
       "      <th>0</th>\n",
       "      <th>1</th>\n",
       "      <th>2</th>\n",
       "      <th>3</th>\n",
       "      <th>4</th>\n",
       "    </tr>\n",
       "  </thead>\n",
       "  <tbody>\n",
       "    <tr>\n",
       "      <th>0</th>\n",
       "      <td>1</td>\n",
       "      <td>Qatar</td>\n",
       "      <td>$128,647</td>\n",
       "      <td>$61,264</td>\n",
       "      <td>752%</td>\n",
       "    </tr>\n",
       "    <tr>\n",
       "      <th>1</th>\n",
       "      <td>2</td>\n",
       "      <td>Macao</td>\n",
       "      <td>$115,367</td>\n",
       "      <td>$80,890</td>\n",
       "      <td>675%</td>\n",
       "    </tr>\n",
       "    <tr>\n",
       "      <th>2</th>\n",
       "      <td>3</td>\n",
       "      <td>Luxembourg</td>\n",
       "      <td>$107,641</td>\n",
       "      <td>$105,280</td>\n",
       "      <td>629%</td>\n",
       "    </tr>\n",
       "    <tr>\n",
       "      <th>3</th>\n",
       "      <td>4</td>\n",
       "      <td>Singapore</td>\n",
       "      <td>$94,105</td>\n",
       "      <td>$56,746</td>\n",
       "      <td>550%</td>\n",
       "    </tr>\n",
       "    <tr>\n",
       "      <th>4</th>\n",
       "      <td>5</td>\n",
       "      <td>Brunei</td>\n",
       "      <td>$79,003</td>\n",
       "      <td>$28,572</td>\n",
       "      <td>462%</td>\n",
       "    </tr>\n",
       "  </tbody>\n",
       "</table>\n",
       "</div>"
      ],
      "text/plain": [
       "   0           1         2         3     4\n",
       "0  1       Qatar  $128,647   $61,264  752%\n",
       "1  2       Macao  $115,367   $80,890  675%\n",
       "2  3  Luxembourg  $107,641  $105,280  629%\n",
       "3  4   Singapore   $94,105   $56,746  550%\n",
       "4  5      Brunei   $79,003   $28,572  462%"
      ]
     },
     "execution_count": 3,
     "metadata": {},
     "output_type": "execute_result"
    },
    {
     "data": {
      "application/javascript": [
       "\n",
       "            setTimeout(function() {\n",
       "                var nbb_cell_id = 3;\n",
       "                var nbb_unformatted_code = \"# Read data into a dataframe. The data file should be in the same directory as your script.\\n# or adjust the path to fit your directory structure.\\n# The raw data has no column headers.\\ndf = pd.read_csv(\\\"World_GDP_Data_2017.txt\\\", sep=\\\"\\\\t\\\", header=None)\\n\\n# Display the first 5 items of the dataframe.\\ndf.head()\";\n",
       "                var nbb_formatted_code = \"# Read data into a dataframe. The data file should be in the same directory as your script.\\n# or adjust the path to fit your directory structure.\\n# The raw data has no column headers.\\ndf = pd.read_csv(\\\"World_GDP_Data_2017.txt\\\", sep=\\\"\\\\t\\\", header=None)\\n\\n# Display the first 5 items of the dataframe.\\ndf.head()\";\n",
       "                var nbb_cells = Jupyter.notebook.get_cells();\n",
       "                for (var i = 0; i < nbb_cells.length; ++i) {\n",
       "                    if (nbb_cells[i].input_prompt_number == nbb_cell_id) {\n",
       "                        if (nbb_cells[i].get_text() == nbb_unformatted_code) {\n",
       "                             nbb_cells[i].set_text(nbb_formatted_code);\n",
       "                        }\n",
       "                        break;\n",
       "                    }\n",
       "                }\n",
       "            }, 500);\n",
       "            "
      ],
      "text/plain": [
       "<IPython.core.display.Javascript object>"
      ]
     },
     "metadata": {},
     "output_type": "display_data"
    }
   ],
   "source": [
    "# Read data into a dataframe. The data file should be in the same directory as your script.\n",
    "# or adjust the path to fit your directory structure.\n",
    "# The raw data has no column headers.\n",
    "df = pd.read_csv(\"World_GDP_Data_2017.txt\", sep=\"\\t\", header=None)\n",
    "\n",
    "# Display the first 5 items of the dataframe.\n",
    "df.head()"
   ]
  },
  {
   "cell_type": "code",
   "execution_count": 4,
   "id": "tested-center",
   "metadata": {},
   "outputs": [
    {
     "data": {
      "text/html": [
       "<div>\n",
       "<style scoped>\n",
       "    .dataframe tbody tr th:only-of-type {\n",
       "        vertical-align: middle;\n",
       "    }\n",
       "\n",
       "    .dataframe tbody tr th {\n",
       "        vertical-align: top;\n",
       "    }\n",
       "\n",
       "    .dataframe thead th {\n",
       "        text-align: right;\n",
       "    }\n",
       "</style>\n",
       "<table border=\"1\" class=\"dataframe\">\n",
       "  <thead>\n",
       "    <tr style=\"text-align: right;\">\n",
       "      <th></th>\n",
       "      <th>rank</th>\n",
       "      <th>country</th>\n",
       "      <th>ppp</th>\n",
       "      <th>nominal</th>\n",
       "      <th>~world</th>\n",
       "    </tr>\n",
       "  </thead>\n",
       "  <tbody>\n",
       "    <tr>\n",
       "      <th>0</th>\n",
       "      <td>1</td>\n",
       "      <td>Qatar</td>\n",
       "      <td>$128,647</td>\n",
       "      <td>$61,264</td>\n",
       "      <td>752%</td>\n",
       "    </tr>\n",
       "    <tr>\n",
       "      <th>1</th>\n",
       "      <td>2</td>\n",
       "      <td>Macao</td>\n",
       "      <td>$115,367</td>\n",
       "      <td>$80,890</td>\n",
       "      <td>675%</td>\n",
       "    </tr>\n",
       "    <tr>\n",
       "      <th>2</th>\n",
       "      <td>3</td>\n",
       "      <td>Luxembourg</td>\n",
       "      <td>$107,641</td>\n",
       "      <td>$105,280</td>\n",
       "      <td>629%</td>\n",
       "    </tr>\n",
       "    <tr>\n",
       "      <th>3</th>\n",
       "      <td>4</td>\n",
       "      <td>Singapore</td>\n",
       "      <td>$94,105</td>\n",
       "      <td>$56,746</td>\n",
       "      <td>550%</td>\n",
       "    </tr>\n",
       "    <tr>\n",
       "      <th>4</th>\n",
       "      <td>5</td>\n",
       "      <td>Brunei</td>\n",
       "      <td>$79,003</td>\n",
       "      <td>$28,572</td>\n",
       "      <td>462%</td>\n",
       "    </tr>\n",
       "  </tbody>\n",
       "</table>\n",
       "</div>"
      ],
      "text/plain": [
       "   rank     country       ppp   nominal ~world\n",
       "0     1       Qatar  $128,647   $61,264   752%\n",
       "1     2       Macao  $115,367   $80,890   675%\n",
       "2     3  Luxembourg  $107,641  $105,280   629%\n",
       "3     4   Singapore   $94,105   $56,746   550%\n",
       "4     5      Brunei   $79,003   $28,572   462%"
      ]
     },
     "execution_count": 4,
     "metadata": {},
     "output_type": "execute_result"
    },
    {
     "data": {
      "application/javascript": [
       "\n",
       "            setTimeout(function() {\n",
       "                var nbb_cell_id = 4;\n",
       "                var nbb_unformatted_code = \"# Add headers so can reference the data by column name.\\ndf.columns = [\\\"rank\\\", \\\"country\\\", \\\"ppp\\\", \\\"nominal\\\", \\\"~world\\\"]\\ndf.head()\";\n",
       "                var nbb_formatted_code = \"# Add headers so can reference the data by column name.\\ndf.columns = [\\\"rank\\\", \\\"country\\\", \\\"ppp\\\", \\\"nominal\\\", \\\"~world\\\"]\\ndf.head()\";\n",
       "                var nbb_cells = Jupyter.notebook.get_cells();\n",
       "                for (var i = 0; i < nbb_cells.length; ++i) {\n",
       "                    if (nbb_cells[i].input_prompt_number == nbb_cell_id) {\n",
       "                        if (nbb_cells[i].get_text() == nbb_unformatted_code) {\n",
       "                             nbb_cells[i].set_text(nbb_formatted_code);\n",
       "                        }\n",
       "                        break;\n",
       "                    }\n",
       "                }\n",
       "            }, 500);\n",
       "            "
      ],
      "text/plain": [
       "<IPython.core.display.Javascript object>"
      ]
     },
     "metadata": {},
     "output_type": "display_data"
    }
   ],
   "source": [
    "# Add headers so can reference the data by column name.\n",
    "df.columns = [\"rank\", \"country\", \"ppp\", \"nominal\", \"~world\"]\n",
    "df.head()"
   ]
  },
  {
   "cell_type": "markdown",
   "id": "successful-forestry",
   "metadata": {},
   "source": [
    "It's going to be hard to work with the values in the `nominal` column as they are strings:"
   ]
  },
  {
   "cell_type": "code",
   "execution_count": 5,
   "id": "stunning-peninsula",
   "metadata": {},
   "outputs": [
    {
     "data": {
      "text/plain": [
       "str"
      ]
     },
     "execution_count": 5,
     "metadata": {},
     "output_type": "execute_result"
    },
    {
     "data": {
      "application/javascript": [
       "\n",
       "            setTimeout(function() {\n",
       "                var nbb_cell_id = 5;\n",
       "                var nbb_unformatted_code = \"type(df.nominal[0])\";\n",
       "                var nbb_formatted_code = \"type(df.nominal[0])\";\n",
       "                var nbb_cells = Jupyter.notebook.get_cells();\n",
       "                for (var i = 0; i < nbb_cells.length; ++i) {\n",
       "                    if (nbb_cells[i].input_prompt_number == nbb_cell_id) {\n",
       "                        if (nbb_cells[i].get_text() == nbb_unformatted_code) {\n",
       "                             nbb_cells[i].set_text(nbb_formatted_code);\n",
       "                        }\n",
       "                        break;\n",
       "                    }\n",
       "                }\n",
       "            }, 500);\n",
       "            "
      ],
      "text/plain": [
       "<IPython.core.display.Javascript object>"
      ]
     },
     "metadata": {},
     "output_type": "display_data"
    }
   ],
   "source": [
    "type(df.nominal[0])\n"
   ]
  },
  {
   "cell_type": "markdown",
   "id": "innovative-boundary",
   "metadata": {},
   "source": [
    "so we are going to perform a conversion to make the values numeric"
   ]
  },
  {
   "cell_type": "code",
   "execution_count": 6,
   "id": "binding-husband",
   "metadata": {},
   "outputs": [
    {
     "data": {
      "text/plain": [
       "0     61264\n",
       "1     80890\n",
       "2    105280\n",
       "3     56746\n",
       "4     28572\n",
       "Name: nominal, dtype: int32"
      ]
     },
     "execution_count": 6,
     "metadata": {},
     "output_type": "execute_result"
    },
    {
     "data": {
      "application/javascript": [
       "\n",
       "            setTimeout(function() {\n",
       "                var nbb_cell_id = 6;\n",
       "                var nbb_unformatted_code = \"# Convert `nominal` column data to float values using `replace` and regular expressions.\\ndf[\\\"nominal\\\"] = df[\\\"nominal\\\"].replace({\\\"\\\\$\\\": \\\"\\\", \\\",\\\": \\\"\\\"}, regex=True).astype(int)\\ndf.nominal.head()\";\n",
       "                var nbb_formatted_code = \"# Convert `nominal` column data to float values using `replace` and regular expressions.\\ndf[\\\"nominal\\\"] = df[\\\"nominal\\\"].replace({\\\"\\\\$\\\": \\\"\\\", \\\",\\\": \\\"\\\"}, regex=True).astype(int)\\ndf.nominal.head()\";\n",
       "                var nbb_cells = Jupyter.notebook.get_cells();\n",
       "                for (var i = 0; i < nbb_cells.length; ++i) {\n",
       "                    if (nbb_cells[i].input_prompt_number == nbb_cell_id) {\n",
       "                        if (nbb_cells[i].get_text() == nbb_unformatted_code) {\n",
       "                             nbb_cells[i].set_text(nbb_formatted_code);\n",
       "                        }\n",
       "                        break;\n",
       "                    }\n",
       "                }\n",
       "            }, 500);\n",
       "            "
      ],
      "text/plain": [
       "<IPython.core.display.Javascript object>"
      ]
     },
     "metadata": {},
     "output_type": "display_data"
    }
   ],
   "source": [
    "# Convert `nominal` column data to float values using `replace` and regular expressions.\n",
    "df[\"nominal\"] = df[\"nominal\"].replace({\"\\$\": \"\", \",\": \"\"}, regex=True).astype(int)\n",
    "df.nominal.head()"
   ]
  },
  {
   "cell_type": "markdown",
   "id": "significant-expression",
   "metadata": {},
   "source": [
    "Now that we have numeric values for nominal GDP, we can use various methods to analyse and represent the data. A powerful pandas method for calculating descriptive statistics is `describe()`:"
   ]
  },
  {
   "cell_type": "code",
   "execution_count": 7,
   "id": "expected-breathing",
   "metadata": {},
   "outputs": [
    {
     "data": {
      "text/plain": [
       "count       190.000000\n",
       "mean      14303.668421\n",
       "std       19155.257580\n",
       "min         293.000000\n",
       "25%        2008.000000\n",
       "50%        5765.000000\n",
       "75%       16617.000000\n",
       "max      105280.000000\n",
       "Name: nominal, dtype: float64"
      ]
     },
     "execution_count": 7,
     "metadata": {},
     "output_type": "execute_result"
    },
    {
     "data": {
      "application/javascript": [
       "\n",
       "            setTimeout(function() {\n",
       "                var nbb_cell_id = 7;\n",
       "                var nbb_unformatted_code = \"df.nominal.describe()\";\n",
       "                var nbb_formatted_code = \"df.nominal.describe()\";\n",
       "                var nbb_cells = Jupyter.notebook.get_cells();\n",
       "                for (var i = 0; i < nbb_cells.length; ++i) {\n",
       "                    if (nbb_cells[i].input_prompt_number == nbb_cell_id) {\n",
       "                        if (nbb_cells[i].get_text() == nbb_unformatted_code) {\n",
       "                             nbb_cells[i].set_text(nbb_formatted_code);\n",
       "                        }\n",
       "                        break;\n",
       "                    }\n",
       "                }\n",
       "            }, 500);\n",
       "            "
      ],
      "text/plain": [
       "<IPython.core.display.Javascript object>"
      ]
     },
     "metadata": {},
     "output_type": "display_data"
    }
   ],
   "source": [
    "df.nominal.describe()"
   ]
  },
  {
   "cell_type": "markdown",
   "id": "activated-bloom",
   "metadata": {},
   "source": [
    "This gives us some key values which give us insight into the data. A brief description of the values follow:\n",
    "\n",
    "- count: How many data points were included?\n",
    "- mean: What was the mean value? (The mean is one particular type of average.)\n",
    "- std: How widely distributed are the values?\n",
    "- min: The Minimum value.\n",
    "- 25%: Value at or beneath which 25% of the data falls.\n",
    "- 50%: Value at or beneath which 50% of the data falls (the median).\n",
    "- 75%: Value at or beneath which 75% of the data falls.\n",
    "- max: The maximum value.\n",
    "\n",
    "\n",
    "We can create a visual representation using various types of graph. For example a boxplot is an excellent way to get a sense of how the data is distributed.\n"
   ]
  },
  {
   "cell_type": "code",
   "execution_count": 8,
   "id": "foster-monster",
   "metadata": {},
   "outputs": [
    {
     "data": {
      "image/png": "[encoded data removed]",
      "text/plain": [
       "<Figure size 432x288 with 1 Axes>"
      ]
     },
     "metadata": {},
     "output_type": "display_data"
    },
    {
     "data": {
      "application/javascript": [
       "\n",
       "            setTimeout(function() {\n",
       "                var nbb_cell_id = 8;\n",
       "                var nbb_unformatted_code = \"plt.style.use(\\\"dark_background\\\")\\nplt.boxplot(df.nominal, vert=False, patch_artist=True)\\nplt.title(\\\"Nominal GDP per Capita 2017 in USD.\\\")\\nplt.show()\";\n",
       "                var nbb_formatted_code = \"plt.style.use(\\\"dark_background\\\")\\nplt.boxplot(df.nominal, vert=False, patch_artist=True)\\nplt.title(\\\"Nominal GDP per Capita 2017 in USD.\\\")\\nplt.show()\";\n",
       "                var nbb_cells = Jupyter.notebook.get_cells();\n",
       "                for (var i = 0; i < nbb_cells.length; ++i) {\n",
       "                    if (nbb_cells[i].input_prompt_number == nbb_cell_id) {\n",
       "                        if (nbb_cells[i].get_text() == nbb_unformatted_code) {\n",
       "                             nbb_cells[i].set_text(nbb_formatted_code);\n",
       "                        }\n",
       "                        break;\n",
       "                    }\n",
       "                }\n",
       "            }, 500);\n",
       "            "
      ],
      "text/plain": [
       "<IPython.core.display.Javascript object>"
      ]
     },
     "metadata": {},
     "output_type": "display_data"
    }
   ],
   "source": [
    "plt.style.use(\"dark_background\")\n",
    "plt.boxplot(df.nominal, vert=False, patch_artist=True)\n",
    "plt.title(\"Nominal GDP per Capita 2017 in USD.\")\n",
    "plt.show()"
   ]
  },
  {
   "cell_type": "markdown",
   "id": "greenhouse-detective",
   "metadata": {},
   "source": [
    "A boxplot is a convienient way to visualise key aspects of a set of values. "
   ]
  },
  {
   "cell_type": "code",
   "execution_count": 9,
   "id": "future-stationery",
   "metadata": {},
   "outputs": [
    {
     "data": {
      "text/html": [
       "<div>\n",
       "<style scoped>\n",
       "    .dataframe tbody tr th:only-of-type {\n",
       "        vertical-align: middle;\n",
       "    }\n",
       "\n",
       "    .dataframe tbody tr th {\n",
       "        vertical-align: top;\n",
       "    }\n",
       "\n",
       "    .dataframe thead th {\n",
       "        text-align: right;\n",
       "    }\n",
       "</style>\n",
       "<table border=\"1\" class=\"dataframe\">\n",
       "  <thead>\n",
       "    <tr style=\"text-align: right;\">\n",
       "      <th></th>\n",
       "      <th>rank</th>\n",
       "      <th>country</th>\n",
       "      <th>ppp</th>\n",
       "      <th>nominal</th>\n",
       "      <th>~world</th>\n",
       "    </tr>\n",
       "  </thead>\n",
       "  <tbody>\n",
       "    <tr>\n",
       "      <th>2</th>\n",
       "      <td>3</td>\n",
       "      <td>Luxembourg</td>\n",
       "      <td>$107,641</td>\n",
       "      <td>105280</td>\n",
       "      <td>629%</td>\n",
       "    </tr>\n",
       "    <tr>\n",
       "      <th>1</th>\n",
       "      <td>2</td>\n",
       "      <td>Macao</td>\n",
       "      <td>$115,367</td>\n",
       "      <td>80890</td>\n",
       "      <td>675%</td>\n",
       "    </tr>\n",
       "    <tr>\n",
       "      <th>8</th>\n",
       "      <td>9</td>\n",
       "      <td>Switzerland</td>\n",
       "      <td>$66,307</td>\n",
       "      <td>80296</td>\n",
       "      <td>388%</td>\n",
       "    </tr>\n",
       "    <tr>\n",
       "      <th>10</th>\n",
       "      <td>11</td>\n",
       "      <td>Norway</td>\n",
       "      <td>$62,183</td>\n",
       "      <td>75428</td>\n",
       "      <td>364%</td>\n",
       "    </tr>\n",
       "    <tr>\n",
       "      <th>13</th>\n",
       "      <td>14</td>\n",
       "      <td>Iceland</td>\n",
       "      <td>$55,322</td>\n",
       "      <td>73233</td>\n",
       "      <td>324%</td>\n",
       "    </tr>\n",
       "  </tbody>\n",
       "</table>\n",
       "</div>"
      ],
      "text/plain": [
       "    rank      country       ppp  nominal ~world\n",
       "2      3   Luxembourg  $107,641   105280   629%\n",
       "1      2        Macao  $115,367    80890   675%\n",
       "8      9  Switzerland   $66,307    80296   388%\n",
       "10    11       Norway   $62,183    75428   364%\n",
       "13    14      Iceland   $55,322    73233   324%"
      ]
     },
     "execution_count": 9,
     "metadata": {},
     "output_type": "execute_result"
    },
    {
     "data": {
      "application/javascript": [
       "\n",
       "            setTimeout(function() {\n",
       "                var nbb_cell_id = 9;\n",
       "                var nbb_unformatted_code = \"df.sort_values(by=[\\\"nominal\\\"], inplace=True, ascending=False)\\ndf.head()\";\n",
       "                var nbb_formatted_code = \"df.sort_values(by=[\\\"nominal\\\"], inplace=True, ascending=False)\\ndf.head()\";\n",
       "                var nbb_cells = Jupyter.notebook.get_cells();\n",
       "                for (var i = 0; i < nbb_cells.length; ++i) {\n",
       "                    if (nbb_cells[i].input_prompt_number == nbb_cell_id) {\n",
       "                        if (nbb_cells[i].get_text() == nbb_unformatted_code) {\n",
       "                             nbb_cells[i].set_text(nbb_formatted_code);\n",
       "                        }\n",
       "                        break;\n",
       "                    }\n",
       "                }\n",
       "            }, 500);\n",
       "            "
      ],
      "text/plain": [
       "<IPython.core.display.Javascript object>"
      ]
     },
     "metadata": {},
     "output_type": "display_data"
    }
   ],
   "source": [
    "df.sort_values(by=[\"nominal\"], inplace=True, ascending=False)\n",
    "df.head()"
   ]
  },
  {
   "cell_type": "markdown",
   "id": "rocky-printer",
   "metadata": {},
   "source": [
    "https://www.statisticshowto.com/probability-and-statistics/skewed-distribution/\n",
    "The data is clearly skewed. If you haven't learned what this means yet, just observe that is is not symetric about the means value, and consider what this might tell us about the data. We will look at skew in another lesson."
   ]
  },
  {
   "cell_type": "code",
   "execution_count": 10,
   "id": "latest-missile",
   "metadata": {},
   "outputs": [
    {
     "data": {
      "image/png": "[encoded data removed]",
      "text/plain": [
       "<Figure size 432x288 with 1 Axes>"
      ]
     },
     "metadata": {},
     "output_type": "display_data"
    },
    {
     "data": {
      "application/javascript": [
       "\n",
       "            setTimeout(function() {\n",
       "                var nbb_cell_id = 10;\n",
       "                var nbb_unformatted_code = \"# plt.hist(df.PerCapitaGDP)\\ndata = df.nominal\\nbinwidth = 2000\\nmedian = np.median(data)\\nmean = np.mean(data)\\n# mode = np.mode()\\nplt.hist(data, bins=np.arange(min(data), max(data) + binwidth, binwidth))\\nplt.axvline(median, color=\\\"red\\\", linestyle=\\\"solid\\\", linewidth=1)\\nplt.axvline(mean, color=\\\"green\\\", linestyle=\\\"solid\\\", linewidth=1)\\nplt.plot([], [], \\\"-\\\", linewidth=1, color=\\\"red\\\", label=\\\"median\\\")\\nplt.plot([], [], \\\"-\\\", linewidth=1, color=\\\"green\\\", label=\\\"mean\\\")\\nplt.legend()\\nplt.title(\\\"Gross Domestic Product per Capita in $U.S. Year unknown\\\")\\n\\nplt.show()\";\n",
       "                var nbb_formatted_code = \"# plt.hist(df.PerCapitaGDP)\\ndata = df.nominal\\nbinwidth = 2000\\nmedian = np.median(data)\\nmean = np.mean(data)\\n# mode = np.mode()\\nplt.hist(data, bins=np.arange(min(data), max(data) + binwidth, binwidth))\\nplt.axvline(median, color=\\\"red\\\", linestyle=\\\"solid\\\", linewidth=1)\\nplt.axvline(mean, color=\\\"green\\\", linestyle=\\\"solid\\\", linewidth=1)\\nplt.plot([], [], \\\"-\\\", linewidth=1, color=\\\"red\\\", label=\\\"median\\\")\\nplt.plot([], [], \\\"-\\\", linewidth=1, color=\\\"green\\\", label=\\\"mean\\\")\\nplt.legend()\\nplt.title(\\\"Gross Domestic Product per Capita in $U.S. Year unknown\\\")\\n\\nplt.show()\";\n",
       "                var nbb_cells = Jupyter.notebook.get_cells();\n",
       "                for (var i = 0; i < nbb_cells.length; ++i) {\n",
       "                    if (nbb_cells[i].input_prompt_number == nbb_cell_id) {\n",
       "                        if (nbb_cells[i].get_text() == nbb_unformatted_code) {\n",
       "                             nbb_cells[i].set_text(nbb_formatted_code);\n",
       "                        }\n",
       "                        break;\n",
       "                    }\n",
       "                }\n",
       "            }, 500);\n",
       "            "
      ],
      "text/plain": [
       "<IPython.core.display.Javascript object>"
      ]
     },
     "metadata": {},
     "output_type": "display_data"
    }
   ],
   "source": [
    "# plt.hist(df.PerCapitaGDP)\n",
    "data = df.nominal\n",
    "binwidth = 2000\n",
    "median = np.median(data)\n",
    "mean = np.mean(data)\n",
    "# mode = np.mode()\n",
    "plt.hist(data, bins=np.arange(min(data), max(data) + binwidth, binwidth))\n",
    "plt.axvline(median, color=\"red\", linestyle=\"solid\", linewidth=1)\n",
    "plt.axvline(mean, color=\"green\", linestyle=\"solid\", linewidth=1)\n",
    "plt.plot([], [], \"-\", linewidth=1, color=\"red\", label=\"median\")\n",
    "plt.plot([], [], \"-\", linewidth=1, color=\"green\", label=\"mean\")\n",
    "plt.legend()\n",
    "plt.title(\"Gross Domestic Product per Capita in $U.S. Year unknown\")\n",
    "\n",
    "plt.show()"
   ]
  },
  {
   "cell_type": "code",
   "execution_count": null,
   "id": "purple-ambassador",
   "metadata": {},
   "outputs": [],
   "source": []
  }
 ],
 "metadata": {
  "kernelspec": {
   "display_name": "Python 3",
   "language": "python",
   "name": "python3"
  },
  "language_info": {
   "codemirror_mode": {
    "name": "ipython",
    "version": 3
   },
   "file_extension": ".py",
   "mimetype": "text/x-python",
   "name": "python",
   "nbconvert_exporter": "python",
   "pygments_lexer": "ipython3",
   "version": "3.9.0"
  }
 },
 "nbformat": 4,
 "nbformat_minor": 5
}
